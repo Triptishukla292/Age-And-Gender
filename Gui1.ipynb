{
 "cells": [
  {
   "cell_type": "code",
   "execution_count": 1,
   "id": "86ac1cc7",
   "metadata": {},
   "outputs": [],
   "source": [
    "import tkinter as tk\n",
    "from tkinter import filedialog\n",
    "from tkinter import * \n",
    "from PIL import Image , ImageTk\n",
    "import numpy \n",
    "import numpy as np"
   ]
  },
  {
   "cell_type": "code",
   "execution_count": 2,
   "id": "560bc342",
   "metadata": {},
   "outputs": [],
   "source": [
    "from keras.models import load_model\n",
    "model = load_model(r'\\Users\\PRAFULL\\Desktop\\AgeandGender\\UTKFace\\Age_sex_detection.keras')"
   ]
  },
  {
   "cell_type": "code",
   "execution_count": 3,
   "id": "119fce38",
   "metadata": {},
   "outputs": [],
   "source": [
    "#Initializing the Gui\n",
    "top=tk.Tk()\n",
    "top.geometry('800x600')\n",
    "top.title('Age And Gender Detector')\n",
    "top.configure(background='#CDCDCD')"
   ]
  },
  {
   "cell_type": "code",
   "execution_count": 4,
   "id": "d53f90d8",
   "metadata": {},
   "outputs": [],
   "source": [
    "#Initializing the label (label 1 for age and label 2 for gender)\n",
    "label1=Label(top,background='#CDCDCD',font=('arial',15,\"bold\"))\n",
    "label2=Label(top,background='#CDCDCD',font=('arial',15,\"bold\"))\n",
    "sign_image=Label(top)\n",
    "\n"
   ]
  },
  {
   "cell_type": "code",
   "execution_count": 5,
   "id": "6d0f9a14",
   "metadata": {},
   "outputs": [],
   "source": [
    "from tkinter import Button"
   ]
  },
  {
   "cell_type": "code",
   "execution_count": 6,
   "id": "3e06c333",
   "metadata": {},
   "outputs": [
    {
     "name": "stdout",
     "output_type": "stream",
     "text": [
      "(48, 48, 3)\n",
      "\u001b[1m1/1\u001b[0m \u001b[32m━━━━━━━━━━━━━━━━━━━━\u001b[0m\u001b[37m\u001b[0m \u001b[1m1s\u001b[0m 522ms/step\n",
      "Predicted age is :2\n",
      "Predcited gender is :Female\n",
      "(48, 48, 3)\n",
      "\u001b[1m1/1\u001b[0m \u001b[32m━━━━━━━━━━━━━━━━━━━━\u001b[0m\u001b[37m\u001b[0m \u001b[1m0s\u001b[0m 69ms/step\n",
      "Predicted age is :28\n",
      "Predcited gender is :Female\n",
      "(48, 48, 3)\n",
      "\u001b[1m1/1\u001b[0m \u001b[32m━━━━━━━━━━━━━━━━━━━━\u001b[0m\u001b[37m\u001b[0m \u001b[1m0s\u001b[0m 75ms/step\n",
      "Predicted age is :30\n",
      "Predcited gender is :Male\n",
      "(48, 48, 3)\n",
      "\u001b[1m1/1\u001b[0m \u001b[32m━━━━━━━━━━━━━━━━━━━━\u001b[0m\u001b[37m\u001b[0m \u001b[1m0s\u001b[0m 61ms/step\n",
      "Predicted age is :57\n",
      "Predcited gender is :Male\n"
     ]
    }
   ],
   "source": [
    "# defining detect function which detects the age and gender of the person in images using the model\n",
    "def detect(file_path):\n",
    "    global label_packed \n",
    "    image=Image.open(file_path)\n",
    "    image=image.resize((48,48))\n",
    "    image=numpy.expand_dims(image,axis=0)\n",
    "    image=np.array(image)\n",
    "    image=np.delete(image,0,1)\n",
    "    image=np.resize(image,(48,48,3))\n",
    "    print(image.shape)\n",
    "    sex_f=['Male','Female']\n",
    "    image=np.array([image])/255\n",
    "    pred=model.predict(image)\n",
    "    age=int(np.round(pred[1][0]))\n",
    "    sex=int(np.round(pred[0][0]))\n",
    "    print(\"Predicted age is :\"+str(age))\n",
    "    print(\"Predcited gender is :\"+sex_f[sex])\n",
    "    label1.configure(foreground=\"#011638\",text=age)\n",
    "    label2.configure(foreground=\"#011638\",text=sex_f[sex])\n",
    "    \n",
    "#definfng the show_detect buttin fubction    \n",
    "def show_Detect_button(file_path):\n",
    "    Detect_b=Button(top,text=\"detect image\",command=lambda: detect(file_path),padx=10, pady=5)\n",
    "    Detect_b.configure(background=\"#364156\",foreground='white',font=('arial',10,'bold'))\n",
    "    Detect_b.place(relx=0.79,rely=0.46)\n",
    "    \n",
    "#defing uploaded images function \n",
    "\n",
    "def upload_images():\n",
    "    try:\n",
    "        file_path=filedialog.askopenfilename()\n",
    "        uploaded=Image.open(file_path)\n",
    "        uploaded.thumbnail(((top.winfo_width()/2.55),(top.winfo_height()/2.25)))\n",
    "        im=ImageTk.PhotoImage(uploaded)\n",
    "        \n",
    "        sign_image.configure(image=im)\n",
    "        sign_image.image=im\n",
    "        label1.configure(text=' ')\n",
    "        label2.configure(text=' ')\n",
    "        show_Detect_button(file_path)   \n",
    "    except:\n",
    "        pass\n",
    "        \n",
    "upload=Button(top,text=\"Upload An Image \",command=upload_images,padx=10,pady=5)\n",
    "upload.configure(background='#364156',foreground='white',font=('arial',10,'bold'))\n",
    "upload.pack(side='bottom',pady=50)\n",
    "sign_image.pack(side=\"bottom\",expand=True)\n",
    "label1.pack(side=\"bottom\",expand=True)\n",
    "label2.pack(side=\"bottom\",expand=True)\n",
    "heading=Label(top,text='Age And Gender Detector',pady=20,font=('arial',20,\"bold\"))\n",
    "heading.configure(background='#CDCDCD',foreground=\"#364156\")\n",
    "heading.pack()\n",
    "top.mainloop()"
   ]
  },
  {
   "cell_type": "code",
   "execution_count": null,
   "id": "70e440c1",
   "metadata": {},
   "outputs": [],
   "source": []
  },
  {
   "cell_type": "code",
   "execution_count": null,
   "id": "a449e85e",
   "metadata": {},
   "outputs": [],
   "source": []
  }
 ],
 "metadata": {
  "kernelspec": {
   "display_name": "Python 3 (ipykernel)",
   "language": "python",
   "name": "python3"
  },
  "language_info": {
   "codemirror_mode": {
    "name": "ipython",
    "version": 3
   },
   "file_extension": ".py",
   "mimetype": "text/x-python",
   "name": "python",
   "nbconvert_exporter": "python",
   "pygments_lexer": "ipython3",
   "version": "3.11.5"
  }
 },
 "nbformat": 4,
 "nbformat_minor": 5
}
